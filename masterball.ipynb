{
 "cells": [
  {
   "cell_type": "markdown",
   "metadata": {},
   "source": [
    "# Intelligent Systems Assignment 1\n",
    "\n",
    "## Masterball solver\n",
    "\n",
    "**Name: Diego Amaya ID: diaamayaram**\n",
    "\n"
   ]
  },
  {
   "cell_type": "markdown",
   "metadata": {},
   "source": [
    "### 1. Create a class to model the Masterball problem"
   ]
  },
  {
   "cell_type": "markdown",
   "metadata": {},
   "source": [
    "#### Variables modeling the actions"
   ]
  },
  {
   "cell_type": "code",
   "execution_count": 3,
   "metadata": {
    "collapsed": true
   },
   "outputs": [],
   "source": [
    "'''\n",
    "This variables MUST not be changed.\n",
    "They represent the movements of the masterball.\n",
    "'''\n",
    "R_0 = \"Right 0\"\n",
    "R_1 = \"Right 1\"\n",
    "R_2 = \"Right 2\"\n",
    "R_3 = \"Right 3\"\n",
    "Rotations = [R_0, R_1, R_2, R_3]\n",
    "\n",
    "V_0 = \"Vertical 0\"\n",
    "V_1 = \"Vertical 1\"\n",
    "V_2 = \"Vertical 2\"\n",
    "V_3 = \"Vertical 3\"\n",
    "V_4 = \"Vertical 4\"\n",
    "V_5 = \"Vertical 5\"\n",
    "V_6 = \"Vertical 6\"\n",
    "V_7 = \"Vertical 7\"\n",
    "Turns = [V_0, V_1, V_2, V_3, V_4, V_5, V_6, V_7]"
   ]
  },
  {
   "cell_type": "markdown",
   "metadata": {},
   "source": [
    "#### The Masterball problem class"
   ]
  },
  {
   "cell_type": "code",
   "execution_count": 3,
   "metadata": {
    "collapsed": false
   },
   "outputs": [],
   "source": [
    "import search\n",
    "import util\n",
    "import time \n",
    "from __builtin__ import str\n",
    "import copy\n",
    "\n",
    "class masterballProblem(search.SearchProblem):    \n",
    "    \n",
    "    def __init__(self, startState):\n",
    "        '''\n",
    "        Here are some examples of initial states:\n",
    "        [[0, 1, 4, 5, 6, 2, 3, 7], [0, 1, 3, 4, 5, 6, 3, 7], [1, 2, 4, 5, 6, 2, 7, 0], [0, 1, 4, 5, 6, 2, 3, 7]]\n",
    "        [[0, 7, 4, 5, 1, 6, 2, 3], [0, 7, 4, 5, 0, 5, 2, 3], [7, 6, 3, 4, 1, 6, 1, 2], [0, 7, 4, 5, 1, 6, 2, 3]]\n",
    "        [[0, 1, 6, 4, 5, 2, 3, 7], [0, 2, 6, 5, 1, 3, 4, 7], [0, 2, 6, 5, 1, 3, 4, 7], [0, 5, 6, 4, 1, 2, 3, 7]]\n",
    "        '''\n",
    "        self.expanded = 0\n",
    "        \n",
    "        start = [[0, 1, 4, 5, 6, 2, 3, 7], [0, 1, 3, 4, 5, 6, 3, 7], [1, 2, 4, 5, 6, 2, 7, 0], [0, 1, 4, 5, 6, 2, 3, 7]]\n",
    "        goal_ref = [[0, 1, 2, 3, 4, 5, 6, 7], [0, 1, 2, 3, 4, 5, 6, 7], [0, 1, 2, 3, 4, 5, 6, 7], [0, 1, 2, 3, 4, 5, 6, 7]]\n",
    "        goal = []\n",
    "        \n",
    "        self.start = start\n",
    "        pass\n",
    "    \n",
    "    \n",
    "    def isGoalState(self, state):\n",
    "        \n",
    "        def doright1(state, row):\n",
    "            state_new = state \n",
    "            d = state_new[row][6]\n",
    "            limit=range(7)\n",
    "            limit.reverse()\n",
    "            for i in limit:       \n",
    "                state_new[row][i] = state_new[row][i-1]\n",
    "            state_new[row][7] = d\n",
    "            return state_new\n",
    "        \n",
    "        goal_ref = [[0, 1, 2, 3, 4, 5, 6, 7], [0, 1, 2, 3, 4, 5, 6, 7], [0, 1, 2, 3, 4, 5, 6, 7], [0, 1, 2, 3, 4, 5, 6, 7]]\n",
    "        goal = []\n",
    "        for i in range(8):\n",
    "            if i == 0:\n",
    "                goal.append(goal_ref)\n",
    "            else:\n",
    "                a = copy.deepcopy(goal[i-1])\n",
    "                for j in range(4):\n",
    "                    b = doright1(a, j)\n",
    "                goal.append(b)\n",
    "                    \n",
    "        for i in range(8):\n",
    "            if state == goal[i]:\n",
    "                return True\n",
    "        return False\n",
    "        \n",
    "    \n",
    "    def getStartState(self):\n",
    "        return self.start\n",
    "\n",
    "    def getSuccessors(self, state):\n",
    "        def doleft(state, row):\n",
    "            state_new = state \n",
    "            d = state_new[row][0]\n",
    "            for i in range(7):\n",
    "                state_new[row][i] = state_new[row][i+1] \n",
    "            state_new[row][7] = d \n",
    "            return state_new\n",
    "\n",
    "        def doright(state, row):\n",
    "            state_new = state \n",
    "            d = state_new[row][6]\n",
    "            limit=range(7)\n",
    "            limit.reverse()\n",
    "            for i in limit:       \n",
    "                state_new[row][i] = state_new[row][i-1]\n",
    "            state_new[row][7] = d\n",
    "            return state_new\n",
    "        \n",
    "        '''       FUNCION TURN  '''\n",
    "        \n",
    "        lst_successors = []  \n",
    "        \n",
    "        v0 = copy.deepcopy(state)\n",
    "        for i in range(2):\n",
    "            for j in range(4):\n",
    "                (v0[i][j],v0[3-i][3-j]) = (v0[3-i][3-j],v0[i][j])\n",
    "        lst_successors.append((v0,V_0))\n",
    "        \n",
    "        \n",
    "        v1 = copy.deepcopy(state)\n",
    "        for i in range(2):\n",
    "            for j in range(1,5):\n",
    "                (v1[i][j],v1[3-i][4-j]) = (v1[3-i][4-j],v1[i][j])\n",
    "        lst_successors.append((v1,V_1))\n",
    "        \n",
    "        \n",
    "        v2 = copy.deepcopy(state)\n",
    "        for i in range(2):\n",
    "            for j in range(2,6):\n",
    "                (v2[i][j],v2[3-i][5-j]) = (v2[3-i][5-j],v2[i][j])\n",
    "        lst_successors.append((v2,V_2))\n",
    "        \n",
    "        \n",
    "        v3 = copy.deepcopy(state)\n",
    "        for i in range(2):\n",
    "            for j in range(3,7):\n",
    "                (v3[i][j],v3[3-i][6-j]) = (v3[3-i][6-j],v3[i][j])\n",
    "        lst_successors.append((v3,V_3))\n",
    "        \n",
    "        \n",
    "        v4 = copy.deepcopy(state)\n",
    "        for i in range(2):\n",
    "            for j in range(4,8):\n",
    "                (v4[i][j],v4[3-i][7-j]) = (v4[3-i][7-j],v4[i][j])\n",
    "        lst_successors.append((v4,V_4))\n",
    "        \n",
    "        \n",
    "        v5 = copy.deepcopy(state)\n",
    "        for i in range(2):\n",
    "            for j in range(5,9):\n",
    "                (v5[i][j%8],v5[3-i][(8-j)%8]) = (v5[3-i][(8-j)%8],v5[i][j%8])\n",
    "        lst_successors.append((v5,V_5))\n",
    "        \n",
    "        \n",
    "        v6 = copy.deepcopy(state)\n",
    "        for i in range(2):\n",
    "            for j in range(6,10):\n",
    "                (v6[i][j%8],v6[3-i][(9-j)%8]) = (v6[3-i][(9-j)%8],v6[i][j%8])\n",
    "        lst_successors.append((v6,V_6))\n",
    "        \n",
    "        \n",
    "        v7 = copy.deepcopy(state)\n",
    "        for i in range(2):\n",
    "            for j in range(7,11):\n",
    "                (v7[i][j%8],v7[3-i][(10-j)%8]) = (v7[3-i][(10-j)%8],v7[i][j%8])\n",
    "        lst_successors.append((v7,V_7))\n",
    "        \n",
    "                       \n",
    "        for i in range(4):\n",
    "            state_new = copy.deepcopy(state)\n",
    "            for j in range(7):\n",
    "                state_new = doright(state_new, i)\n",
    "                tuple_new = (state_new, Rotations[i])\n",
    "                self.expanded += j\n",
    "                lst_successors.append(tuple_new)\n",
    "                                \n",
    "        #print lst_successors\n",
    "                \n",
    "        return lst_successors"
   ]
  },
  {
   "cell_type": "markdown",
   "metadata": {},
   "source": [
    "### 2. Implement iterative deepening search\n",
    "\n",
    "Follow the example code provided in class and implement iterative deepening search (IDS)."
   ]
  },
  {
   "cell_type": "code",
   "execution_count": 2,
   "metadata": {
    "collapsed": true
   },
   "outputs": [],
   "source": [
    "def depth_Limited_Search(problem, bound):\n",
    "    visited = {}\n",
    "    steps = 0\n",
    "    state = problem.getStartState()\n",
    "    frontier = util.Stack()\n",
    "    d = {}\n",
    "    d[str(state)] = 0\n",
    "    frontier.push((state, [\"Start\"]))\n",
    "    visited[str(state)] = 'gray'\n",
    "    while not frontier.isEmpty():\n",
    "        u, actions = frontier.pop()\n",
    "        steps += 1\n",
    "        if problem.isGoalState(u):\n",
    "            return  actions, steps\n",
    "        if d[str(u)] == bound:\n",
    "            continue\n",
    "        for v, action in problem.getSuccessors(u):\n",
    "            if not str(v) in visited:\n",
    "                visited[str(v)] = 'gray'\n",
    "                d[str(v)] = d[str(u)] + 1\n",
    "                frontier.push((v, actions + [action]))\n",
    "        visited[str(u)] = 'black'\n",
    "    return ['Failure'], steps\n",
    "\n",
    "def IDS(problem):\n",
    "    deadline = time.time() + 600\n",
    "    steps = 0\n",
    "    bound = 6\n",
    "    \n",
    "    while time.time() < deadline:\n",
    "        result, nodes = depth_Limited_Search(problem, bound)\n",
    "        if len(result) > 0:\n",
    "            return result, nodes\n",
    "        steps += 1\n",
    "        \n",
    "def aStarSearch(problem, heuristic):\n",
    "    visited = {}\n",
    "    moves = {}\n",
    "    steps = 0\n",
    "    priority_queue = util.PriorityQueue()\n",
    "    state = problem.getStartState()\n",
    "    visited[str(state)] = 1\n",
    "    moves[str(state)] = [\"Start\"]\n",
    "    priority_queue.push((state,\"Start\"), heuristic(state))\n",
    "    \n",
    "    while not priority_queue.isEmpty():\n",
    "        steps +=1\n",
    "        state, p = priority_queue.pop()\n",
    "        if problem.isGoalState(state):\n",
    "            return moves[str(state)], steps \n",
    "        else:\n",
    "            for state_new, p in problem.getSuccessors(state):\n",
    "                    if str(state_new) not in visited: \n",
    "                        visited[str(state_new)] = visited[str(state)] + 1\n",
    "                        moves[str(state_new)] = list(moves[str(state)])\n",
    "                        moves[str(state_new)].append(p)\n",
    "                        priority_queue.push((state_new,p), (visited[str(state_new)] + heuristic(state_new)))\n",
    "    return ['Failure'], steps"
   ]
  },
  {
   "cell_type": "markdown",
   "metadata": {},
   "source": [
    "Evaluate it to see what is the maximum depth that it could explore in a reasonable time. Report the results. "
   ]
  },
  {
   "cell_type": "markdown",
   "metadata": {},
   "source": [
    "### 3. Implement different heuristics for the problem"
   ]
  },
  {
   "cell_type": "markdown",
   "metadata": {
    "collapsed": true
   },
   "source": [
    "Implement at least two admissible and consistent heuristics. Compare A* using the heuristics against IDS calculating the number of expanded nodes and the effective branching factor, in the same way as it is done in figure 3.29 of [Russell10]."
   ]
  },
  {
   "cell_type": "code",
   "execution_count": 5,
   "metadata": {
    "collapsed": true
   },
   "outputs": [],
   "source": [
    "def f(i):\n",
    "    if i <= 4:\n",
    "        return i\n",
    "    else:\n",
    "        return (7 * i) % 8\n",
    "\n",
    "def heuristic(state):\n",
    "    loc = {}\n",
    "    for i in range(4):\n",
    "        for j in range(8):\n",
    "            if state[i][j] not in loc:\n",
    "                loc[state[i][j]] = list()\n",
    "                loc[state[i][j]].append((i,j))\n",
    "            else:\n",
    "                loc[state[i][j]].append((i,j))\n",
    "    upper = 0\n",
    "    for i in loc:\n",
    "        for j in range(4):\n",
    "            a1, b1 = loc[i][j]\n",
    "            for k in range(j+1, len(loc[i])):\n",
    "                a2, b2 = loc[i][k]\n",
    "                if a1 == a2:\n",
    "                    if upper < (f(abs(b1-b2)))+1:\n",
    "                        upper = (f(abs(b1-b2)))+1\n",
    "                else:\n",
    "                    if upper < f(abs(b1-b2)):\n",
    "                        upper = f(abs(b1-b2))\n",
    "    return upper\n",
    "\n",
    "def heuristic2(state):\n",
    "    loc = {}\n",
    "    for i in range(4):\n",
    "        for j in range(8):\n",
    "            if state[i][j] not in loc:\n",
    "                loc[state[i][j]] = list()\n",
    "                loc[state[i][j]].append((i,j))\n",
    "            else:\n",
    "                loc[state[i][j]].append((i,j))\n",
    "    suma = 0\n",
    "    for i in loc:\n",
    "        for j in range(4):\n",
    "            a1, b1 = loc[i][j]\n",
    "            for k in range(j+1, 4):\n",
    "                a2, b2 = loc[i][k]\n",
    "                if a1 == a2:\n",
    "                    suma += abs(b1-b2) + 5\n",
    "                else:\n",
    "                    suma += abs(b1-b2)\n",
    "    return suma/60.0"
   ]
  },
  {
   "cell_type": "markdown",
   "metadata": {},
   "source": [
    "Now apply the develop functions to solve the Masterball problem."
   ]
  },
  {
   "cell_type": "code",
   "execution_count": 6,
   "metadata": {
    "collapsed": false
   },
   "outputs": [
    {
     "name": "stdout",
     "output_type": "stream",
     "text": [
      "[]\n",
      "[]\n"
     ]
    }
   ],
   "source": [
    "problem = masterballProblem([ [0, 4, 3, 2, 1, 5, 6, 7],\n",
    "                              [0, 3, 2, 1, 0, 5, 6, 7],\n",
    "                              [7, 4, 3, 2, 1, 4, 5, 6],\n",
    "                              [0, 4, 3, 2, 1, 5, 6, 7]])\n",
    "\n",
    "print(IDS(problem))\n",
    "print(aStarSearch(problem, heuristic2))"
   ]
  }
 ],
 "metadata": {
  "kernelspec": {
   "display_name": "Python 2 (SageMath)",
   "language": "python",
   "name": "python2"
  },
  "language_info": {
   "codemirror_mode": {
    "name": "ipython",
    "version": 2
   },
   "file_extension": ".py",
   "mimetype": "text/x-python",
   "name": "python",
   "nbconvert_exporter": "python",
   "pygments_lexer": "ipython2",
   "version": "2.7.13"
  }
 },
 "nbformat": 4,
 "nbformat_minor": 0
}
